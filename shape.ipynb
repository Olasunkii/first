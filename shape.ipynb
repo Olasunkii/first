{
 "cells": [
  {
   "cell_type": "code",
   "execution_count": 1,
   "id": "da9f8b09-2307-4345-b92f-66d014c79ead",
   "metadata": {},
   "outputs": [
    {
     "name": "stderr",
     "output_type": "stream",
     "text": [
      "C:\\Users\\Hp\\Desktop\\Hanze-Preparatory\\Semester_One\\Quater_Two\\Programming-II\\Class_2\\Assignment_2\\myvenv2\\lib\\site-packages\\tqdm\\auto.py:21: TqdmWarning: IProgress not found. Please update jupyter and ipywidgets. See https://ipywidgets.readthedocs.io/en/stable/user_install.html\n",
      "  from .autonotebook import tqdm as notebook_tqdm\n"
     ]
    }
   ],
   "source": [
    "import kagglehub\n",
    "import pandas as pd\n",
    "import numpy as np\n",
    "import geopandas as gdp"
   ]
  },
  {
   "cell_type": "code",
   "execution_count": 2,
   "id": "005818dd-667d-467c-b0c6-a39230c23c71",
   "metadata": {},
   "outputs": [
    {
     "name": "stdout",
     "output_type": "stream",
     "text": [
      "Downloading from https://www.kaggle.com/api/v1/datasets/download/nswitzer/usa-state-shapeflies?dataset_version_number=870...\n"
     ]
    },
    {
     "name": "stderr",
     "output_type": "stream",
     "text": [
      "100%|█████████████████████████████| 3.15M/3.15M [00:00<00:00, 5.51MB/s]"
     ]
    },
    {
     "name": "stdout",
     "output_type": "stream",
     "text": [
      "Extracting files...\n"
     ]
    },
    {
     "name": "stderr",
     "output_type": "stream",
     "text": [
      "\n"
     ]
    },
    {
     "name": "stdout",
     "output_type": "stream",
     "text": [
      "Path to dataset files: C:\\Users\\Hp\\.cache\\kagglehub\\datasets\\nswitzer\\usa-state-shapeflies\\versions\\870\n"
     ]
    }
   ],
   "source": [
    "\n",
    "\n",
    "# Download latest version\n",
    "path = kagglehub.dataset_download(\"nswitzer/usa-state-shapeflies\")\n",
    "\n",
    "print(\"Path to dataset files:\", path)"
   ]
  },
  {
   "cell_type": "code",
   "execution_count": 25,
   "id": "052e13c1-d85d-4ca3-8542-9501a84f6802",
   "metadata": {},
   "outputs": [],
   "source": [
    "depression_df = pd.read_csv(\"data/Indicators_of_Anxiety_or_Depression.csv\")\n",
    "covid_df = pd.read_csv(\"data/Post-COVID_Conditions_20241225.csv\")\n",
    "employment = pd.read_excel(\"data/Unemployment.xlsx\")\n",
    "employment.to_csv(\"data/socioeconomic.csv\",index=None)\n",
    "socio_status_df = pd.read_csv(\"data/socioeconomic.csv\")\n",
    "us_shape = gdp.read_file(\"data/shape/cb_2018_us_state_500k.shp\")\n",
    "#us_shape.head()"
   ]
  },
  {
   "cell_type": "code",
   "execution_count": 26,
   "id": "7b63b089-d5cb-4bce-bc4c-807c71eebceb",
   "metadata": {},
   "outputs": [
    {
     "data": {
      "text/html": [
       "<div>\n",
       "<style scoped>\n",
       "    .dataframe tbody tr th:only-of-type {\n",
       "        vertical-align: middle;\n",
       "    }\n",
       "\n",
       "    .dataframe tbody tr th {\n",
       "        vertical-align: top;\n",
       "    }\n",
       "\n",
       "    .dataframe thead th {\n",
       "        text-align: right;\n",
       "    }\n",
       "</style>\n",
       "<table border=\"1\" class=\"dataframe\">\n",
       "  <thead>\n",
       "    <tr style=\"text-align: right;\">\n",
       "      <th></th>\n",
       "      <th>FIPS_Code</th>\n",
       "      <th>State</th>\n",
       "      <th>Area_Name</th>\n",
       "      <th>Rural_Urban_Continuum_Code_2013</th>\n",
       "      <th>Urban_Influence_Code_2013</th>\n",
       "      <th>Metro_2013</th>\n",
       "      <th>Civilian_labor_force_2000</th>\n",
       "      <th>Employed_2000</th>\n",
       "      <th>Unemployed_2000</th>\n",
       "      <th>Unemployment_rate_2000</th>\n",
       "      <th>...</th>\n",
       "      <th>Civilian_labor_force_2021</th>\n",
       "      <th>Employed_2021</th>\n",
       "      <th>Unemployed_2021</th>\n",
       "      <th>Unemployment_rate_2021</th>\n",
       "      <th>Civilian_labor_force_2022</th>\n",
       "      <th>Employed_2022</th>\n",
       "      <th>Unemployed_2022</th>\n",
       "      <th>Unemployment_rate_2022</th>\n",
       "      <th>Median_Household_Income_2021</th>\n",
       "      <th>Med_HH_Income_Percent_of_State_Total_2021</th>\n",
       "    </tr>\n",
       "  </thead>\n",
       "  <tbody>\n",
       "    <tr>\n",
       "      <th>0</th>\n",
       "      <td>0</td>\n",
       "      <td>US</td>\n",
       "      <td>United States</td>\n",
       "      <td>NaN</td>\n",
       "      <td>NaN</td>\n",
       "      <td>NaN</td>\n",
       "      <td>142601576.0</td>\n",
       "      <td>136904853.0</td>\n",
       "      <td>5696723.0</td>\n",
       "      <td>4.0</td>\n",
       "      <td>...</td>\n",
       "      <td>162229903.0</td>\n",
       "      <td>153544980.0</td>\n",
       "      <td>8684923.0</td>\n",
       "      <td>5.4</td>\n",
       "      <td>164781642.0</td>\n",
       "      <td>158766998.0</td>\n",
       "      <td>6014644.0</td>\n",
       "      <td>3.7</td>\n",
       "      <td>69717.0</td>\n",
       "      <td>NaN</td>\n",
       "    </tr>\n",
       "    <tr>\n",
       "      <th>1</th>\n",
       "      <td>1000</td>\n",
       "      <td>AL</td>\n",
       "      <td>Alabama</td>\n",
       "      <td>NaN</td>\n",
       "      <td>NaN</td>\n",
       "      <td>NaN</td>\n",
       "      <td>2147173.0</td>\n",
       "      <td>2047731.0</td>\n",
       "      <td>99442.0</td>\n",
       "      <td>4.6</td>\n",
       "      <td>...</td>\n",
       "      <td>2259349.0</td>\n",
       "      <td>2183330.0</td>\n",
       "      <td>76019.0</td>\n",
       "      <td>3.4</td>\n",
       "      <td>2286028.0</td>\n",
       "      <td>2226670.0</td>\n",
       "      <td>59358.0</td>\n",
       "      <td>2.6</td>\n",
       "      <td>53990.0</td>\n",
       "      <td>100.0</td>\n",
       "    </tr>\n",
       "  </tbody>\n",
       "</table>\n",
       "<p>2 rows × 100 columns</p>\n",
       "</div>"
      ],
      "text/plain": [
       "   FIPS_Code State      Area_Name  Rural_Urban_Continuum_Code_2013  \\\n",
       "0          0    US  United States                              NaN   \n",
       "1       1000    AL        Alabama                              NaN   \n",
       "\n",
       "   Urban_Influence_Code_2013  Metro_2013  Civilian_labor_force_2000  \\\n",
       "0                        NaN         NaN                142601576.0   \n",
       "1                        NaN         NaN                  2147173.0   \n",
       "\n",
       "   Employed_2000  Unemployed_2000  Unemployment_rate_2000  ...  \\\n",
       "0    136904853.0        5696723.0                     4.0  ...   \n",
       "1      2047731.0          99442.0                     4.6  ...   \n",
       "\n",
       "   Civilian_labor_force_2021  Employed_2021  Unemployed_2021  \\\n",
       "0                162229903.0    153544980.0        8684923.0   \n",
       "1                  2259349.0      2183330.0          76019.0   \n",
       "\n",
       "   Unemployment_rate_2021  Civilian_labor_force_2022  Employed_2022  \\\n",
       "0                     5.4                164781642.0    158766998.0   \n",
       "1                     3.4                  2286028.0      2226670.0   \n",
       "\n",
       "   Unemployed_2022  Unemployment_rate_2022  Median_Household_Income_2021  \\\n",
       "0        6014644.0                     3.7                       69717.0   \n",
       "1          59358.0                     2.6                       53990.0   \n",
       "\n",
       "   Med_HH_Income_Percent_of_State_Total_2021  \n",
       "0                                        NaN  \n",
       "1                                      100.0  \n",
       "\n",
       "[2 rows x 100 columns]"
      ]
     },
     "execution_count": 26,
     "metadata": {},
     "output_type": "execute_result"
    }
   ],
   "source": [
    "socio_status_df.head(2)"
   ]
  },
  {
   "cell_type": "code",
   "execution_count": 27,
   "id": "97f82c2f-2553-4703-b7d5-057783553886",
   "metadata": {},
   "outputs": [
    {
     "name": "stdout",
     "output_type": "stream",
     "text": [
      "Index(['FIPS_Code', 'State', 'Area_Name', 'Rural_Urban_Continuum_Code_2013',\n",
      "       'Urban_Influence_Code_2013', 'Metro_2013', 'Civilian_labor_force_2000',\n",
      "       'Employed_2000', 'Unemployed_2000', 'Unemployment_rate_2000',\n",
      "       'Civilian_labor_force_2001', 'Employed_2001', 'Unemployed_2001',\n",
      "       'Unemployment_rate_2001', 'Civilian_labor_force_2002', 'Employed_2002',\n",
      "       'Unemployed_2002', 'Unemployment_rate_2002',\n",
      "       'Civilian_labor_force_2003', 'Employed_2003', 'Unemployed_2003',\n",
      "       'Unemployment_rate_2003', 'Civilian_labor_force_2004', 'Employed_2004',\n",
      "       'Unemployed_2004', 'Unemployment_rate_2004',\n",
      "       'Civilian_labor_force_2005', 'Employed_2005', 'Unemployed_2005',\n",
      "       'Unemployment_rate_2005', 'Civilian_labor_force_2006', 'Employed_2006',\n",
      "       'Unemployed_2006', 'Unemployment_rate_2006',\n",
      "       'Civilian_labor_force_2007', 'Employed_2007', 'Unemployed_2007',\n",
      "       'Unemployment_rate_2007', 'Civilian_labor_force_2008', 'Employed_2008',\n",
      "       'Unemployed_2008', 'Unemployment_rate_2008',\n",
      "       'Civilian_labor_force_2009', 'Employed_2009', 'Unemployed_2009',\n",
      "       'Unemployment_rate_2009', 'Civilian_labor_force_2010', 'Employed_2010',\n",
      "       'Unemployed_2010', 'Unemployment_rate_2010',\n",
      "       'Civilian_labor_force_2011', 'Employed_2011', 'Unemployed_2011',\n",
      "       'Unemployment_rate_2011', 'Civilian_labor_force_2012', 'Employed_2012',\n",
      "       'Unemployed_2012', 'Unemployment_rate_2012',\n",
      "       'Civilian_labor_force_2013', 'Employed_2013', 'Unemployed_2013',\n",
      "       'Unemployment_rate_2013', 'Civilian_labor_force_2014', 'Employed_2014',\n",
      "       'Unemployed_2014', 'Unemployment_rate_2014',\n",
      "       'Civilian_labor_force_2015', 'Employed_2015', 'Unemployed_2015',\n",
      "       'Unemployment_rate_2015', 'Civilian_labor_force_2016', 'Employed_2016',\n",
      "       'Unemployed_2016', 'Unemployment_rate_2016',\n",
      "       'Civilian_labor_force_2017', 'Employed_2017', 'Unemployed_2017',\n",
      "       'Unemployment_rate_2017', 'Civilian_labor_force_2018', 'Employed_2018',\n",
      "       'Unemployed_2018', 'Unemployment_rate_2018',\n",
      "       'Civilian_labor_force_2019', 'Employed_2019', 'Unemployed_2019',\n",
      "       'Unemployment_rate_2019', 'Civilian_labor_force_2020', 'Employed_2020',\n",
      "       'Unemployed_2020', 'Unemployment_rate_2020',\n",
      "       'Civilian_labor_force_2021', 'Employed_2021', 'Unemployed_2021',\n",
      "       'Unemployment_rate_2021', 'Civilian_labor_force_2022', 'Employed_2022',\n",
      "       'Unemployed_2022', 'Unemployment_rate_2022',\n",
      "       'Median_Household_Income_2021',\n",
      "       'Med_HH_Income_Percent_of_State_Total_2021'],\n",
      "      dtype='object')\n"
     ]
    }
   ],
   "source": [
    "print(socio_status_df.columns)"
   ]
  },
  {
   "cell_type": "code",
   "execution_count": 29,
   "id": "989e9ced-2531-4ceb-8124-20ec3147d3e8",
   "metadata": {},
   "outputs": [
    {
     "name": "stdout",
     "output_type": "stream",
     "text": [
      "['United States' 'Alabama' 'Autauga County, AL' ...\n",
      " 'Villalba Municipio, PR' 'Yabucoa Municipio, PR' 'Yauco Municipio, PR']\n"
     ]
    }
   ],
   "source": [
    "print(socio_status_df[\"Area_Name\"].unique())"
   ]
  },
  {
   "cell_type": "code",
   "execution_count": 30,
   "id": "2246a25e-70e7-4648-97bd-2746af56f795",
   "metadata": {},
   "outputs": [
    {
     "name": "stdout",
     "output_type": "stream",
     "text": [
      "Index(['STATEFP', 'STATENS', 'AFFGEOID', 'GEOID', 'STUSPS', 'NAME', 'LSAD',\n",
      "       'ALAND', 'AWATER', 'geometry'],\n",
      "      dtype='object')\n"
     ]
    }
   ],
   "source": [
    "print(us_shape.columns)"
   ]
  },
  {
   "cell_type": "code",
   "execution_count": 31,
   "id": "e927f871-e18f-43e6-9201-795e12ff843d",
   "metadata": {},
   "outputs": [
    {
     "data": {
      "text/html": [
       "<div>\n",
       "<style scoped>\n",
       "    .dataframe tbody tr th:only-of-type {\n",
       "        vertical-align: middle;\n",
       "    }\n",
       "\n",
       "    .dataframe tbody tr th {\n",
       "        vertical-align: top;\n",
       "    }\n",
       "\n",
       "    .dataframe thead th {\n",
       "        text-align: right;\n",
       "    }\n",
       "</style>\n",
       "<table border=\"1\" class=\"dataframe\">\n",
       "  <thead>\n",
       "    <tr style=\"text-align: right;\">\n",
       "      <th></th>\n",
       "      <th>STATEFP</th>\n",
       "      <th>STATENS</th>\n",
       "      <th>AFFGEOID</th>\n",
       "      <th>GEOID</th>\n",
       "      <th>STUSPS</th>\n",
       "      <th>NAME</th>\n",
       "      <th>LSAD</th>\n",
       "      <th>ALAND</th>\n",
       "      <th>AWATER</th>\n",
       "      <th>geometry</th>\n",
       "    </tr>\n",
       "  </thead>\n",
       "  <tbody>\n",
       "    <tr>\n",
       "      <th>0</th>\n",
       "      <td>28</td>\n",
       "      <td>01779790</td>\n",
       "      <td>0400000US28</td>\n",
       "      <td>28</td>\n",
       "      <td>MS</td>\n",
       "      <td>Mississippi</td>\n",
       "      <td>00</td>\n",
       "      <td>121533519481</td>\n",
       "      <td>3926919758</td>\n",
       "      <td>MULTIPOLYGON (((-88.50297 30.21524, -88.49176 ...</td>\n",
       "    </tr>\n",
       "    <tr>\n",
       "      <th>1</th>\n",
       "      <td>37</td>\n",
       "      <td>01027616</td>\n",
       "      <td>0400000US37</td>\n",
       "      <td>37</td>\n",
       "      <td>NC</td>\n",
       "      <td>North Carolina</td>\n",
       "      <td>00</td>\n",
       "      <td>125923656064</td>\n",
       "      <td>13466071395</td>\n",
       "      <td>MULTIPOLYGON (((-75.72681 35.93584, -75.71827 ...</td>\n",
       "    </tr>\n",
       "    <tr>\n",
       "      <th>2</th>\n",
       "      <td>40</td>\n",
       "      <td>01102857</td>\n",
       "      <td>0400000US40</td>\n",
       "      <td>40</td>\n",
       "      <td>OK</td>\n",
       "      <td>Oklahoma</td>\n",
       "      <td>00</td>\n",
       "      <td>177662925723</td>\n",
       "      <td>3374587997</td>\n",
       "      <td>POLYGON ((-103.00256 36.52659, -103.00219 36.6...</td>\n",
       "    </tr>\n",
       "    <tr>\n",
       "      <th>3</th>\n",
       "      <td>51</td>\n",
       "      <td>01779803</td>\n",
       "      <td>0400000US51</td>\n",
       "      <td>51</td>\n",
       "      <td>VA</td>\n",
       "      <td>Virginia</td>\n",
       "      <td>00</td>\n",
       "      <td>102257717110</td>\n",
       "      <td>8528531774</td>\n",
       "      <td>MULTIPOLYGON (((-75.74241 37.80835, -75.74151 ...</td>\n",
       "    </tr>\n",
       "    <tr>\n",
       "      <th>4</th>\n",
       "      <td>54</td>\n",
       "      <td>01779805</td>\n",
       "      <td>0400000US54</td>\n",
       "      <td>54</td>\n",
       "      <td>WV</td>\n",
       "      <td>West Virginia</td>\n",
       "      <td>00</td>\n",
       "      <td>62266474513</td>\n",
       "      <td>489028543</td>\n",
       "      <td>POLYGON ((-82.6432 38.16909, -82.643 38.16956,...</td>\n",
       "    </tr>\n",
       "  </tbody>\n",
       "</table>\n",
       "</div>"
      ],
      "text/plain": [
       "  STATEFP   STATENS     AFFGEOID GEOID STUSPS            NAME LSAD  \\\n",
       "0      28  01779790  0400000US28    28     MS     Mississippi   00   \n",
       "1      37  01027616  0400000US37    37     NC  North Carolina   00   \n",
       "2      40  01102857  0400000US40    40     OK        Oklahoma   00   \n",
       "3      51  01779803  0400000US51    51     VA        Virginia   00   \n",
       "4      54  01779805  0400000US54    54     WV   West Virginia   00   \n",
       "\n",
       "          ALAND       AWATER  \\\n",
       "0  121533519481   3926919758   \n",
       "1  125923656064  13466071395   \n",
       "2  177662925723   3374587997   \n",
       "3  102257717110   8528531774   \n",
       "4   62266474513    489028543   \n",
       "\n",
       "                                            geometry  \n",
       "0  MULTIPOLYGON (((-88.50297 30.21524, -88.49176 ...  \n",
       "1  MULTIPOLYGON (((-75.72681 35.93584, -75.71827 ...  \n",
       "2  POLYGON ((-103.00256 36.52659, -103.00219 36.6...  \n",
       "3  MULTIPOLYGON (((-75.74241 37.80835, -75.74151 ...  \n",
       "4  POLYGON ((-82.6432 38.16909, -82.643 38.16956,...  "
      ]
     },
     "execution_count": 31,
     "metadata": {},
     "output_type": "execute_result"
    }
   ],
   "source": [
    "us_shape.head()"
   ]
  },
  {
   "cell_type": "code",
   "execution_count": null,
   "id": "d1fac415-5039-47d8-9790-edaa48504202",
   "metadata": {},
   "outputs": [],
   "source": []
  }
 ],
 "metadata": {
  "kernelspec": {
   "display_name": "programming2",
   "language": "python",
   "name": "programming2"
  },
  "language_info": {
   "codemirror_mode": {
    "name": "ipython",
    "version": 3
   },
   "file_extension": ".py",
   "mimetype": "text/x-python",
   "name": "python",
   "nbconvert_exporter": "python",
   "pygments_lexer": "ipython3",
   "version": "3.10.0"
  }
 },
 "nbformat": 4,
 "nbformat_minor": 5
}
